{
 "cells": [
  {
   "cell_type": "markdown",
   "metadata": {},
   "source": [
    "# Python数据模型 #"
   ]
  },
  {
   "cell_type": "markdown",
   "metadata": {},
   "source": [
    "Python数据模型其实是对 Python 框架的描述，它规范了这门语言自身构建模块的接口，这些模  \n",
    "块包括但不限于序列、迭代器、函数、类和上下文管理器。  \n",
    "Python使用特殊方法使得数据模型具有一致性的表现。例如：len()函数会调用__len__方法。"
   ]
  },
  {
   "cell_type": "markdown",
   "metadata": {},
   "source": [
    "这些特殊方法名能让你自己的对象实现和支持以下的语言构架，并与之交互:  \n",
    "* 迭代\n",
    "* 集合类\n",
    "* 属性访问\n",
    "* 运算符重载\n",
    "* 函数和方法调用\n",
    "* 对象的创建和销毁\n",
    "* 字符串表现形式和格式化\n",
    "* 上下文管理"
   ]
  },
  {
   "cell_type": "markdown",
   "metadata": {},
   "source": [
    "## 1. 实现一个具有\\__getitem\\__()， \\__len\\__()的方法的类，即可使用内置很多方法像访问列表一样访问此类。"
   ]
  },
  {
   "cell_type": "code",
   "execution_count": 1,
   "metadata": {
    "collapsed": true
   },
   "outputs": [],
   "source": [
    "import collections\n",
    "Card = collections.namedtuple('Card', ['rank', 'suit'])\n",
    "class FrenchDeck:\n",
    "    ranks = [str(n) for n in range(2, 11)] + list('JQKA')\n",
    "    suits = 'spades diamonds clubs hearts'.split()\n",
    "    def __init__(self):\n",
    "        self._cards = [Card(rank, suit) for suit in self.suits\n",
    "        for rank in self.ranks]\n",
    "    def __len__(self):\n",
    "        return len(self._cards)\n",
    "    def __getitem__(self, position):\n",
    "        return self._cards[position]"
   ]
  },
  {
   "cell_type": "code",
   "execution_count": 2,
   "metadata": {
    "collapsed": true
   },
   "outputs": [],
   "source": [
    "deck = FrenchDeck()"
   ]
  },
  {
   "cell_type": "markdown",
   "metadata": {},
   "source": [
    "支持len函数"
   ]
  },
  {
   "cell_type": "code",
   "execution_count": 3,
   "metadata": {},
   "outputs": [
    {
     "data": {
      "text/plain": [
       "52"
      ]
     },
     "execution_count": 3,
     "metadata": {},
     "output_type": "execute_result"
    }
   ],
   "source": [
    "len(deck)"
   ]
  },
  {
   "cell_type": "markdown",
   "metadata": {},
   "source": [
    "\\__getitem\\__() 支持[]读取"
   ]
  },
  {
   "cell_type": "code",
   "execution_count": 4,
   "metadata": {},
   "outputs": [
    {
     "data": {
      "text/plain": [
       "Card(rank='3', suit='spades')"
      ]
     },
     "execution_count": 4,
     "metadata": {},
     "output_type": "execute_result"
    }
   ],
   "source": [
    "deck[1]"
   ]
  },
  {
   "cell_type": "markdown",
   "metadata": {},
   "source": [
    "因为 \\__getitem\\__ 方法把 [] 操作交给了 self._cards 列表，所以我们的 deck 类自动\n",
    "支持切片（ slicing）操作。"
   ]
  },
  {
   "cell_type": "code",
   "execution_count": 5,
   "metadata": {},
   "outputs": [
    {
     "data": {
      "text/plain": [
       "[Card(rank='2', suit='spades'),\n",
       " Card(rank='3', suit='spades'),\n",
       " Card(rank='4', suit='spades'),\n",
       " Card(rank='5', suit='spades'),\n",
       " Card(rank='6', suit='spades'),\n",
       " Card(rank='7', suit='spades'),\n",
       " Card(rank='8', suit='spades'),\n",
       " Card(rank='9', suit='spades'),\n",
       " Card(rank='10', suit='spades'),\n",
       " Card(rank='J', suit='spades'),\n",
       " Card(rank='Q', suit='spades'),\n",
       " Card(rank='K', suit='spades'),\n",
       " Card(rank='A', suit='spades')]"
      ]
     },
     "execution_count": 5,
     "metadata": {},
     "output_type": "execute_result"
    }
   ],
   "source": [
    "deck[:13]"
   ]
  },
  {
   "cell_type": "markdown",
   "metadata": {},
   "source": [
    "仅仅实现了 \\__getitem\\__ 方法，这一摞牌就变成可迭代的了：(没有实现\\__iter\\__ 但是实现了\\__getitem\\__就会自动使用\\__getitem\\生成迭代器)"
   ]
  },
  {
   "cell_type": "code",
   "execution_count": 6,
   "metadata": {},
   "outputs": [
    {
     "name": "stdout",
     "output_type": "stream",
     "text": [
      "Card(rank='2', suit='spades')\n",
      "Card(rank='3', suit='spades')\n",
      "Card(rank='4', suit='spades')\n",
      "Card(rank='5', suit='spades')\n",
      "Card(rank='6', suit='spades')\n",
      "Card(rank='7', suit='spades')\n",
      "Card(rank='8', suit='spades')\n",
      "Card(rank='9', suit='spades')\n",
      "Card(rank='10', suit='spades')\n",
      "Card(rank='J', suit='spades')\n",
      "Card(rank='Q', suit='spades')\n",
      "Card(rank='K', suit='spades')\n",
      "Card(rank='A', suit='spades')\n",
      "Card(rank='2', suit='diamonds')\n",
      "Card(rank='3', suit='diamonds')\n",
      "Card(rank='4', suit='diamonds')\n",
      "Card(rank='5', suit='diamonds')\n",
      "Card(rank='6', suit='diamonds')\n",
      "Card(rank='7', suit='diamonds')\n",
      "Card(rank='8', suit='diamonds')\n",
      "Card(rank='9', suit='diamonds')\n",
      "Card(rank='10', suit='diamonds')\n",
      "Card(rank='J', suit='diamonds')\n",
      "Card(rank='Q', suit='diamonds')\n",
      "Card(rank='K', suit='diamonds')\n",
      "Card(rank='A', suit='diamonds')\n",
      "Card(rank='2', suit='clubs')\n",
      "Card(rank='3', suit='clubs')\n",
      "Card(rank='4', suit='clubs')\n",
      "Card(rank='5', suit='clubs')\n",
      "Card(rank='6', suit='clubs')\n",
      "Card(rank='7', suit='clubs')\n",
      "Card(rank='8', suit='clubs')\n",
      "Card(rank='9', suit='clubs')\n",
      "Card(rank='10', suit='clubs')\n",
      "Card(rank='J', suit='clubs')\n",
      "Card(rank='Q', suit='clubs')\n",
      "Card(rank='K', suit='clubs')\n",
      "Card(rank='A', suit='clubs')\n",
      "Card(rank='2', suit='hearts')\n",
      "Card(rank='3', suit='hearts')\n",
      "Card(rank='4', suit='hearts')\n",
      "Card(rank='5', suit='hearts')\n",
      "Card(rank='6', suit='hearts')\n",
      "Card(rank='7', suit='hearts')\n",
      "Card(rank='8', suit='hearts')\n",
      "Card(rank='9', suit='hearts')\n",
      "Card(rank='10', suit='hearts')\n",
      "Card(rank='J', suit='hearts')\n",
      "Card(rank='Q', suit='hearts')\n",
      "Card(rank='K', suit='hearts')\n",
      "Card(rank='A', suit='hearts')\n"
     ]
    }
   ],
   "source": [
    "for card in deck:\n",
    "    print(card)"
   ]
  },
  {
   "cell_type": "markdown",
   "metadata": {},
   "source": [
    "支持in操作符(譬如说一个集合类型没有实现 \\__contains\\__ 方法，那么 in 运算符\n",
    "就会按顺序做一次迭代搜索。)"
   ]
  },
  {
   "cell_type": "code",
   "execution_count": 7,
   "metadata": {},
   "outputs": [
    {
     "data": {
      "text/plain": [
       "True"
      ]
     },
     "execution_count": 7,
     "metadata": {},
     "output_type": "execute_result"
    }
   ],
   "source": [
    "one_card = Card('A','hearts')\n",
    "one_card in deck"
   ]
  },
  {
   "cell_type": "markdown",
   "metadata": {},
   "source": [
    "soted函数需要一个可迭代对象作为参数，所以deck支持排序"
   ]
  },
  {
   "cell_type": "code",
   "execution_count": 8,
   "metadata": {},
   "outputs": [
    {
     "data": {
      "text/plain": [
       "[Card(rank='2', suit='clubs'),\n",
       " Card(rank='2', suit='diamonds'),\n",
       " Card(rank='2', suit='hearts'),\n",
       " Card(rank='2', suit='spades'),\n",
       " Card(rank='3', suit='clubs'),\n",
       " Card(rank='3', suit='diamonds'),\n",
       " Card(rank='3', suit='hearts'),\n",
       " Card(rank='3', suit='spades'),\n",
       " Card(rank='4', suit='clubs'),\n",
       " Card(rank='4', suit='diamonds'),\n",
       " Card(rank='4', suit='hearts'),\n",
       " Card(rank='4', suit='spades'),\n",
       " Card(rank='5', suit='clubs'),\n",
       " Card(rank='5', suit='diamonds'),\n",
       " Card(rank='5', suit='hearts'),\n",
       " Card(rank='5', suit='spades'),\n",
       " Card(rank='6', suit='clubs'),\n",
       " Card(rank='6', suit='diamonds'),\n",
       " Card(rank='6', suit='hearts'),\n",
       " Card(rank='6', suit='spades'),\n",
       " Card(rank='7', suit='clubs'),\n",
       " Card(rank='7', suit='diamonds'),\n",
       " Card(rank='7', suit='hearts'),\n",
       " Card(rank='7', suit='spades'),\n",
       " Card(rank='8', suit='clubs'),\n",
       " Card(rank='8', suit='diamonds'),\n",
       " Card(rank='8', suit='hearts'),\n",
       " Card(rank='8', suit='spades'),\n",
       " Card(rank='9', suit='clubs'),\n",
       " Card(rank='9', suit='diamonds'),\n",
       " Card(rank='9', suit='hearts'),\n",
       " Card(rank='9', suit='spades'),\n",
       " Card(rank='10', suit='clubs'),\n",
       " Card(rank='10', suit='diamonds'),\n",
       " Card(rank='10', suit='hearts'),\n",
       " Card(rank='10', suit='spades'),\n",
       " Card(rank='J', suit='clubs'),\n",
       " Card(rank='J', suit='diamonds'),\n",
       " Card(rank='J', suit='hearts'),\n",
       " Card(rank='J', suit='spades'),\n",
       " Card(rank='Q', suit='clubs'),\n",
       " Card(rank='Q', suit='diamonds'),\n",
       " Card(rank='Q', suit='hearts'),\n",
       " Card(rank='Q', suit='spades'),\n",
       " Card(rank='K', suit='clubs'),\n",
       " Card(rank='K', suit='diamonds'),\n",
       " Card(rank='K', suit='hearts'),\n",
       " Card(rank='K', suit='spades'),\n",
       " Card(rank='A', suit='clubs'),\n",
       " Card(rank='A', suit='diamonds'),\n",
       " Card(rank='A', suit='hearts'),\n",
       " Card(rank='A', suit='spades')]"
      ]
     },
     "execution_count": 8,
     "metadata": {},
     "output_type": "execute_result"
    }
   ],
   "source": [
    "suit_values = dict(spades=3, hearts=2, diamonds=1, clubs=0)\n",
    "def spades_high(card):\n",
    "    rank_value = FrenchDeck.ranks.index(card.rank)\n",
    "    return rank_value * len(suit_values) + suit_values[card.suit]\n",
    "sorted(deck, key=spades_high)"
   ]
  },
  {
   "cell_type": "markdown",
   "metadata": {},
   "source": [
    "## 2. 如何使用特殊方法"
   ]
  },
  {
   "cell_type": "markdown",
   "metadata": {},
   "source": [
    "特殊方法存在是为了Python解释器调用，通常你的代码不应该调用特殊方法除非元编程，使用内置方法调用特殊方法是最好的选择。"
   ]
  },
  {
   "cell_type": "code",
   "execution_count": 9,
   "metadata": {
    "collapsed": true
   },
   "outputs": [],
   "source": [
    "from math import hypot\n",
    "class Vector:\n",
    "    def __init__(self, x=0, y=0):\n",
    "        self.x = x\n",
    "        self.y = y\n",
    "    def __repr__(self):\n",
    "        return 'Vector({!r}, {!r})'.format(self.x, self.y)\n",
    "    def __abs__(self):\n",
    "        return hypot(self.x, self.y)\n",
    "    def __bool__(self):\n",
    "        return bool(abs(self))\n",
    "    def __add__(self, other):\n",
    "        x = self.x + other.x\n",
    "        y = self.y + other.y\n",
    "        return Vector(x, y)\n",
    "    def __mul__(self, scalar):\n",
    "        return Vector(self.x * scalar, self.y * scalar)"
   ]
  },
  {
   "cell_type": "code",
   "execution_count": 10,
   "metadata": {
    "collapsed": true
   },
   "outputs": [],
   "source": [
    "v1 = Vector(1,2)\n",
    "v2 = Vector(2,3)"
   ]
  },
  {
   "cell_type": "code",
   "execution_count": 11,
   "metadata": {},
   "outputs": [
    {
     "data": {
      "text/plain": [
       "Vector(3, 5)"
      ]
     },
     "execution_count": 11,
     "metadata": {},
     "output_type": "execute_result"
    }
   ],
   "source": [
    "v1 + v2"
   ]
  },
  {
   "cell_type": "code",
   "execution_count": 12,
   "metadata": {},
   "outputs": [
    {
     "data": {
      "text/plain": [
       "2.23606797749979"
      ]
     },
     "execution_count": 12,
     "metadata": {},
     "output_type": "execute_result"
    }
   ],
   "source": [
    "abs(v1)"
   ]
  },
  {
   "cell_type": "code",
   "execution_count": 13,
   "metadata": {},
   "outputs": [
    {
     "data": {
      "text/plain": [
       "Vector(2, 4)"
      ]
     },
     "execution_count": 13,
     "metadata": {},
     "output_type": "execute_result"
    }
   ],
   "source": [
    "v1*2"
   ]
  },
  {
   "cell_type": "code",
   "execution_count": 14,
   "metadata": {},
   "outputs": [
    {
     "data": {
      "text/plain": [
       "True"
      ]
     },
     "execution_count": 14,
     "metadata": {},
     "output_type": "execute_result"
    }
   ],
   "source": [
    "bool(v1)"
   ]
  },
  {
   "cell_type": "markdown",
   "metadata": {},
   "source": [
    "\\__repr\\__ 所返回的字符串应该准确、无歧义，并且尽可能表达出如何用代码创建出这个\n",
    "被打印的对象。因此这里使用了类似调用对象构造器的表达形式（比如 Vector(3, 4)\n",
    "就是个例子）。   \n",
    "\\__repr\\__ 和 \\__str\\__ 的区别在于，后者是在 str() 函数被使用，或是在用 print 函数\n",
    "打印一个对象的时候才被调用的，并且它返回的字符串对终端用户更友好。   \n",
    "如果你只想实现这两个特殊方法中的一个， \\__repr\\__ 是更好的选择，因为如果一个对象\n",
    "没有\\__str\\__ 函数，而 Python 又需要调用它的时候，解释器会用 \\__repr\\__ 作为替代。"
   ]
  },
  {
   "cell_type": "code",
   "execution_count": null,
   "metadata": {
    "collapsed": true
   },
   "outputs": [],
   "source": []
  }
 ],
 "metadata": {
  "kernelspec": {
   "display_name": "Python 3",
   "language": "python",
   "name": "python3"
  },
  "language_info": {
   "codemirror_mode": {
    "name": "ipython",
    "version": 3
   },
   "file_extension": ".py",
   "mimetype": "text/x-python",
   "name": "python",
   "nbconvert_exporter": "python",
   "pygments_lexer": "ipython3",
   "version": "3.6.1"
  }
 },
 "nbformat": 4,
 "nbformat_minor": 2
}
