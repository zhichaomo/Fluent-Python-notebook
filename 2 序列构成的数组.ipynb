{
 "cells": [
  {
   "cell_type": "markdown",
   "metadata": {},
   "source": [
    "# 1. 序列类型概述  \n",
    "容器序列  \n",
    "　　 list、 tuple 和 collections.deque 这些序列能存放不同类型的数据。  \n",
    "扁平序列  \n",
    "　　 str、 bytes、 bytearray、 memoryview 和 array.array，这类序列只能容纳一种类型。  \n",
    "可变序列  \n",
    "　　 list、 bytearray、 array.array、 collections.deque 和 memoryview。  \n",
    "不可变序列\n",
    "　　 tuple、 str 和 bytes。  "
   ]
  },
  {
   "cell_type": "markdown",
   "metadata": {},
   "source": [
    "# 2. 列表推导和生成"
   ]
  },
  {
   "cell_type": "markdown",
   "metadata": {},
   "source": [
    "列表推导试使用[]作为语句  \n",
    "\n",
    "Tips：  \n",
    "* 只用列表推导来创建新的列表，并且尽量保持简短\n",
    "* Python 会忽略代码里 []、 {} 和 () 中的换行，可以省略续行符\\\n",
    "* filter/map函数基本可是使用列表推导式替代"
   ]
  },
  {
   "cell_type": "code",
   "execution_count": 225,
   "metadata": {
    "scrolled": true
   },
   "outputs": [],
   "source": [
    "color = ('r','g','b')\n",
    "size = ('l','xl','xxl')"
   ]
  },
  {
   "cell_type": "markdown",
   "metadata": {},
   "source": [
    "生成2个列表的所有组合"
   ]
  },
  {
   "cell_type": "code",
   "execution_count": 226,
   "metadata": {},
   "outputs": [
    {
     "name": "stdout",
     "output_type": "stream",
     "text": [
      "[('r', 'l'), ('r', 'xl'), ('r', 'xxl'), ('g', 'l'), ('g', 'xl'), ('g', 'xxl'), ('b', 'l'), ('b', 'xl'), ('b', 'xxl')]\n"
     ]
    }
   ],
   "source": [
    "color_size = [(c, s) for c in color for s in size]\n",
    "print(color_size)"
   ]
  },
  {
   "cell_type": "markdown",
   "metadata": {},
   "source": [
    "带筛选条件生成组合"
   ]
  },
  {
   "cell_type": "code",
   "execution_count": 227,
   "metadata": {},
   "outputs": [
    {
     "name": "stdout",
     "output_type": "stream",
     "text": [
      "[('r', 'l'), ('r', 'xl'), ('r', 'xxl'), ('g', 'l'), ('g', 'xl'), ('g', 'xxl')]\n"
     ]
    }
   ],
   "source": [
    "rg_size = [(c, s) for c in color if c in ('r','g') for s in size]\n",
    "print(rg_size)"
   ]
  },
  {
   "cell_type": "markdown",
   "metadata": {},
   "source": [
    "列表生成器  \n",
    "生成器表达式的语法跟列表推导差不多，只不过把方括号换成圆括号而已。"
   ]
  },
  {
   "cell_type": "code",
   "execution_count": 228,
   "metadata": {},
   "outputs": [
    {
     "name": "stdout",
     "output_type": "stream",
     "text": [
      "<generator object <genexpr> at 0x0000000004F43FC0>\n",
      "('r', 'l')\n",
      "('r', 'xl')\n",
      "('r', 'xxl')\n",
      "('g', 'l')\n",
      "('g', 'xl')\n",
      "('g', 'xxl')\n",
      "('b', 'l')\n",
      "('b', 'xl')\n",
      "('b', 'xxl')\n"
     ]
    }
   ],
   "source": [
    "c_s_iter = ((c, s) for c in color for s in size)\n",
    "print(c_s_iter)\n",
    "for item in c_s_iter:\n",
    "    print(item)"
   ]
  },
  {
   "cell_type": "markdown",
   "metadata": {},
   "source": [
    "# 3. 元组  \n",
    "Tips：  \n",
    "* % 格式运算符能被匹配到对应的元组元素上。\n",
    "* for 循环可以分别提取元组里的元素，也叫作拆包（ unpacking）\n",
    "* 我们不总是对元组里所有的数据都感兴趣， _ 占位符能帮助处理\n",
    "* 用 namedtuple 构建的类的实例所消耗的内存跟元组是一样的"
   ]
  },
  {
   "cell_type": "markdown",
   "metadata": {},
   "source": [
    "元组可是使用拆包平行赋值  \n",
    "Tips：  \n",
    "* 元组拆包可以应用到任何可迭代对象上\n",
    "* 被可迭代对象中的元素数量必须要跟接受这些元素的元组的空档数一致。除非我们用 * 来表示忽略多余的元素\n",
    "* 用\\*来处理剩下的元素,\\* 前缀只能用在一个变量名前面，但是这个变量可以出现在赋值表达式的任意位置\n",
    "* \\_占位符能帮助处理不感兴趣位置的元素"
   ]
  },
  {
   "cell_type": "code",
   "execution_count": 229,
   "metadata": {},
   "outputs": [],
   "source": [
    "city, year, pop, chg, area = ('Tokyo', 2003, 32450, 0.66, 8014)\n",
    "city, _, pop, chg, area = ('Tokyo', 2003, 32450, 0.66, 8014)\n",
    "city,*_ = ('Tokyo', 2003, 32450, 0.66, 8014)\n",
    "*others, area = ('Tokyo', 2003, 32450, 0.66, 8014)"
   ]
  },
  {
   "cell_type": "markdown",
   "metadata": {},
   "source": [
    "具名元组  \n",
    "collections.namedtuple 是一个工厂函数，它可以用来构建一个带字段名的元组和一\n",
    "个有名字的类——这个带名字的类对调试程序有很大帮助。"
   ]
  },
  {
   "cell_type": "code",
   "execution_count": 230,
   "metadata": {
    "scrolled": true
   },
   "outputs": [],
   "source": [
    "from collections import namedtuple\n",
    "# help(namedtuple)"
   ]
  },
  {
   "cell_type": "code",
   "execution_count": 231,
   "metadata": {
    "scrolled": true
   },
   "outputs": [
    {
     "name": "stdout",
     "output_type": "stream",
     "text": [
      "Point(x=0, y=0) Point(x=1, y=2)\n"
     ]
    }
   ],
   "source": [
    "Point = namedtuple('Point','x y')\n",
    "p1 = Point(0,0)\n",
    "p2 = Point(1,2)\n",
    "print(p1, p2)"
   ]
  },
  {
   "cell_type": "markdown",
   "metadata": {},
   "source": [
    "具名元组和普通元组具有相同的特性和操作，并且具名元组可以通过属性访问"
   ]
  },
  {
   "cell_type": "code",
   "execution_count": 232,
   "metadata": {},
   "outputs": [
    {
     "name": "stdout",
     "output_type": "stream",
     "text": [
      "2.23606797749979\n"
     ]
    }
   ],
   "source": [
    "print((p2.x**2 + p2.y**2)**0.5)"
   ]
  },
  {
   "cell_type": "markdown",
   "metadata": {},
   "source": [
    "# 4. 切片  \n",
    "Tips:  \n",
    "* 切片和区间会忽略最后一个元素\n",
    "* s[a:b:c] 的形式对 s 在 a 和 b 之间以 c 为间隔取值。\n",
    "* 使用slice切片对象对切片赋值\n",
    "* 对 seq[start:stop:step] 进行求值的时候， Python 会调用seq.\\_getitem\\_(slice(start, stop, step))"
   ]
  },
  {
   "cell_type": "code",
   "execution_count": 233,
   "metadata": {},
   "outputs": [
    {
     "data": {
      "text/plain": [
       "[1, 3]"
      ]
     },
     "execution_count": 233,
     "metadata": {},
     "output_type": "execute_result"
    }
   ],
   "source": [
    "a = list(range(10))\n",
    "a[1:5:2]"
   ]
  },
  {
   "cell_type": "markdown",
   "metadata": {},
   "source": [
    "多维切片会以元组的形式调用\\_getitem\\_ 如下错误说明此情况"
   ]
  },
  {
   "cell_type": "code",
   "execution_count": 234,
   "metadata": {},
   "outputs": [],
   "source": [
    "# a[1:4,:]"
   ]
  },
  {
   "cell_type": "markdown",
   "metadata": {},
   "source": [
    "使用切片对象"
   ]
  },
  {
   "cell_type": "code",
   "execution_count": 235,
   "metadata": {},
   "outputs": [
    {
     "data": {
      "text/plain": [
       "[1, 3, 5, 7, 9]"
      ]
     },
     "execution_count": 235,
     "metadata": {},
     "output_type": "execute_result"
    }
   ],
   "source": [
    "sl = slice(1,10,2)\n",
    "a[sl]"
   ]
  },
  {
   "cell_type": "markdown",
   "metadata": {},
   "source": [
    "使用slice.indices可以根据len计算一个适合的slice"
   ]
  },
  {
   "cell_type": "code",
   "execution_count": 236,
   "metadata": {},
   "outputs": [
    {
     "data": {
      "text/plain": [
       "(1, 10, 2)"
      ]
     },
     "execution_count": 236,
     "metadata": {},
     "output_type": "execute_result"
    }
   ],
   "source": [
    "slice_ = slice(1,20,2)\n",
    "slice_.indices(len(a))"
   ]
  },
  {
   "cell_type": "markdown",
   "metadata": {},
   "source": [
    "# 5. 对序列使用+/*"
   ]
  },
  {
   "cell_type": "markdown",
   "metadata": {},
   "source": [
    "通常 + 号两侧的序列由相同类型的数据所构成，在拼接的过程中，两个被操作的序列都不会被修改， Python 会新建一个包含同样\n",
    "类型数据的序列来作为拼接的结果。"
   ]
  },
  {
   "cell_type": "code",
   "execution_count": 237,
   "metadata": {},
   "outputs": [
    {
     "data": {
      "text/plain": [
       "[1, 2, 3, 4, 5, 6]"
      ]
     },
     "execution_count": 237,
     "metadata": {},
     "output_type": "execute_result"
    }
   ],
   "source": [
    "a = [1,2,3]\n",
    "b = [4,5,6]\n",
    "a+b"
   ]
  },
  {
   "cell_type": "markdown",
   "metadata": {},
   "source": [
    "相加的必须是相同类型"
   ]
  },
  {
   "cell_type": "code",
   "execution_count": 238,
   "metadata": {},
   "outputs": [],
   "source": [
    "# a + (4,5,6)"
   ]
  },
  {
   "cell_type": "markdown",
   "metadata": {},
   "source": [
    "把一个序列复制几份然后再拼接起来，更快捷的做法是把这个序列乘以一个整数。  \n",
    "Tips:  \n",
    "你想用my_list = [[]] * 3 来初始化一个由列表组成的列表，但是你得到的列表里包含的 3 个元素其实是 3 个引用，而且这 3 个引用指向的都是同一个列表。"
   ]
  },
  {
   "cell_type": "code",
   "execution_count": 239,
   "metadata": {},
   "outputs": [
    {
     "data": {
      "text/plain": [
       "[1, 2, 3, 1, 2, 3, 1, 2, 3]"
      ]
     },
     "execution_count": 239,
     "metadata": {},
     "output_type": "execute_result"
    }
   ],
   "source": [
    "a*3"
   ]
  },
  {
   "cell_type": "code",
   "execution_count": 240,
   "metadata": {},
   "outputs": [
    {
     "name": "stdout",
     "output_type": "stream",
     "text": [
      "[[1, 2], [1, 2], [1, 2]]\n"
     ]
    }
   ],
   "source": [
    "ll = [[1,2]]\n",
    "lll = ll*3\n",
    "print(lll)"
   ]
  },
  {
   "cell_type": "code",
   "execution_count": 241,
   "metadata": {},
   "outputs": [
    {
     "name": "stdout",
     "output_type": "stream",
     "text": [
      "[[2, 2], [2, 2], [2, 2]]\n"
     ]
    }
   ],
   "source": [
    "ll[0][0]=2\n",
    "print(lll)"
   ]
  },
  {
   "cell_type": "markdown",
   "metadata": {},
   "source": [
    "# 6. 序列增量赋值"
   ]
  },
  {
   "cell_type": "markdown",
   "metadata": {},
   "source": [
    "增量赋值运算符 += 和 \\*= 的表现取决于它们的第一个操作对象。  \n",
    "+= 背后的特殊方法是 \\__iadd\\__ （用于“就地加法”）。但是如果一个类没有实现这个方法的话， Python 会退一步调用 \\__add\\__ 。  \n",
    "若是可变对象一般是原地操作，不可变对象会创建新的对象赋值给原引用。"
   ]
  },
  {
   "cell_type": "code",
   "execution_count": 242,
   "metadata": {},
   "outputs": [
    {
     "name": "stdout",
     "output_type": "stream",
     "text": [
      "83592392\n",
      "83592392\n"
     ]
    }
   ],
   "source": [
    "l = [1,2,3]\n",
    "print(id(l))\n",
    "l*=2\n",
    "print(id(l))"
   ]
  },
  {
   "cell_type": "code",
   "execution_count": 243,
   "metadata": {},
   "outputs": [
    {
     "name": "stdout",
     "output_type": "stream",
     "text": [
      "83422232\n",
      "82584488\n"
     ]
    }
   ],
   "source": [
    "t = (1,2,3)\n",
    "print(id(t))\n",
    "t*=2\n",
    "print(id(t))"
   ]
  },
  {
   "cell_type": "markdown",
   "metadata": {},
   "source": [
    "str 是一个例外，因为对字符串做 += 实在是太普遍了，所以 CPython 对它做了优化。为 str 初始化内存的时候，程\n",
    "序会为它留出额外的可扩展空间，因此进行增量操作的时候，并不会涉及复制原有字符串到新位置这类操作。"
   ]
  },
  {
   "cell_type": "markdown",
   "metadata": {},
   "source": [
    "下面是元组内存放可变对象时的奇怪错误，可以看到抛出了异常并且元组内可变对象也改变了"
   ]
  },
  {
   "cell_type": "code",
   "execution_count": 244,
   "metadata": {},
   "outputs": [],
   "source": [
    "t = (1,2,[3,4])\n",
    "# t[2]+=[5]"
   ]
  },
  {
   "cell_type": "code",
   "execution_count": 245,
   "metadata": {},
   "outputs": [
    {
     "data": {
      "text/plain": [
       "(1, 2, [3, 4])"
      ]
     },
     "execution_count": 245,
     "metadata": {},
     "output_type": "execute_result"
    }
   ],
   "source": [
    "t"
   ]
  },
  {
   "cell_type": "markdown",
   "metadata": {},
   "source": [
    "* 不要把可变对象放在元组里面。\n",
    "* 增量赋值不是一个原子操作。我们刚才也看到了，它虽然抛出了异常，但还是完成了操作。"
   ]
  },
  {
   "cell_type": "markdown",
   "metadata": {},
   "source": [
    "# 7. list.sort和sorted"
   ]
  },
  {
   "cell_type": "markdown",
   "metadata": {},
   "source": [
    "list.sort 方法会就地排序列表，也就是说不会把原列表复制一份。  \n",
    "sorted，它会新建一个列表作为返回值。这个方法可以接受任何形式的可迭代对象作为参数，甚至包括不可变序列或生成器"
   ]
  },
  {
   "cell_type": "code",
   "execution_count": 246,
   "metadata": {},
   "outputs": [
    {
     "name": "stdout",
     "output_type": "stream",
     "text": [
      "Help on method_descriptor:\n",
      "\n",
      "sort(...)\n",
      "    L.sort(key=None, reverse=False) -> None -- stable sort *IN PLACE*\n",
      "\n"
     ]
    }
   ],
   "source": [
    "help(list.sort)"
   ]
  },
  {
   "cell_type": "code",
   "execution_count": 247,
   "metadata": {},
   "outputs": [
    {
     "name": "stdout",
     "output_type": "stream",
     "text": [
      "Help on built-in function sorted in module builtins:\n",
      "\n",
      "sorted(iterable, /, *, key=None, reverse=False)\n",
      "    Return a new list containing all items from the iterable in ascending order.\n",
      "    \n",
      "    A custom key function can be supplied to customize the sort order, and the\n",
      "    reverse flag can be set to request the result in descending order.\n",
      "\n"
     ]
    }
   ],
   "source": [
    "help(sorted)"
   ]
  },
  {
   "cell_type": "code",
   "execution_count": 248,
   "metadata": {},
   "outputs": [
    {
     "name": "stdout",
     "output_type": "stream",
     "text": [
      "[0.30132111816664287, 0.7929735349820122, 0.9775556705178039, 0.3821434936870234, 0.252595908848107, 0.9661908046426023, 0.14930423939253645, 0.06227748641507447, 0.9878212072397357, 0.08245033284713732]\n"
     ]
    }
   ],
   "source": [
    "import random\n",
    "a = [random.random() for i in range(10)]\n",
    "print(a)"
   ]
  },
  {
   "cell_type": "code",
   "execution_count": 249,
   "metadata": {},
   "outputs": [
    {
     "name": "stdout",
     "output_type": "stream",
     "text": [
      "[0.30132111816664287, 0.7929735349820122, 0.9775556705178039, 0.3821434936870234, 0.252595908848107, 0.9661908046426023, 0.14930423939253645, 0.06227748641507447, 0.9878212072397357, 0.08245033284713732]\n",
      "[0.06227748641507447, 0.08245033284713732, 0.14930423939253645, 0.252595908848107, 0.30132111816664287, 0.3821434936870234, 0.7929735349820122, 0.9661908046426023, 0.9775556705178039, 0.9878212072397357]\n"
     ]
    }
   ],
   "source": [
    "b = sorted(a)\n",
    "print(a)\n",
    "print(b)"
   ]
  },
  {
   "cell_type": "code",
   "execution_count": 250,
   "metadata": {},
   "outputs": [
    {
     "name": "stdout",
     "output_type": "stream",
     "text": [
      "[0.06227748641507447, 0.08245033284713732, 0.14930423939253645, 0.252595908848107, 0.30132111816664287, 0.3821434936870234, 0.7929735349820122, 0.9661908046426023, 0.9775556705178039, 0.9878212072397357]\n"
     ]
    }
   ],
   "source": [
    "a.sort()\n",
    "print(a)"
   ]
  },
  {
   "cell_type": "code",
   "execution_count": 251,
   "metadata": {},
   "outputs": [
    {
     "data": {
      "text/plain": [
       "['apple', 'banana', 'grape', 'raspberry']"
      ]
     },
     "execution_count": 251,
     "metadata": {},
     "output_type": "execute_result"
    }
   ],
   "source": [
    "fruits = ['grape', 'raspberry', 'apple', 'banana']\n",
    "sorted(fruits)"
   ]
  },
  {
   "cell_type": "markdown",
   "metadata": {},
   "source": [
    "以长度排序"
   ]
  },
  {
   "cell_type": "code",
   "execution_count": 252,
   "metadata": {
    "scrolled": true
   },
   "outputs": [
    {
     "data": {
      "text/plain": [
       "['grape', 'apple', 'banana', 'raspberry']"
      ]
     },
     "execution_count": 252,
     "metadata": {},
     "output_type": "execute_result"
    }
   ],
   "source": [
    "sorted(fruits, key=len)"
   ]
  },
  {
   "cell_type": "markdown",
   "metadata": {},
   "source": [
    "以最后一个字符的倒序排序"
   ]
  },
  {
   "cell_type": "code",
   "execution_count": 253,
   "metadata": {},
   "outputs": [
    {
     "data": {
      "text/plain": [
       "['raspberry', 'grape', 'apple', 'banana']"
      ]
     },
     "execution_count": 253,
     "metadata": {},
     "output_type": "execute_result"
    }
   ],
   "source": [
    "sorted(fruits, key = lambda item:item[-1], reverse=True)"
   ]
  },
  {
   "cell_type": "markdown",
   "metadata": {},
   "source": [
    "# 8. 用bisect来管理已排序的序列"
   ]
  },
  {
   "cell_type": "code",
   "execution_count": 254,
   "metadata": {},
   "outputs": [
    {
     "data": {
      "text/plain": [
       "['__builtins__',\n",
       " '__cached__',\n",
       " '__doc__',\n",
       " '__file__',\n",
       " '__loader__',\n",
       " '__name__',\n",
       " '__package__',\n",
       " '__spec__',\n",
       " 'bisect',\n",
       " 'bisect_left',\n",
       " 'bisect_right',\n",
       " 'insort',\n",
       " 'insort_left',\n",
       " 'insort_right']"
      ]
     },
     "execution_count": 254,
     "metadata": {},
     "output_type": "execute_result"
    }
   ],
   "source": [
    "import bisect\n",
    "dir(bisect)"
   ]
  },
  {
   "cell_type": "code",
   "execution_count": 255,
   "metadata": {},
   "outputs": [
    {
     "name": "stdout",
     "output_type": "stream",
     "text": [
      "Help on built-in function bisect_right in module _bisect:\n",
      "\n",
      "bisect_right(...)\n",
      "    bisect_right(a, x[, lo[, hi]]) -> index\n",
      "    \n",
      "    Return the index where to insert item x in list a, assuming a is sorted.\n",
      "    \n",
      "    The return value i is such that all e in a[:i] have e <= x, and all e in\n",
      "    a[i:] have e > x.  So if x already appears in the list, i points just\n",
      "    beyond the rightmost x already there\n",
      "    \n",
      "    Optional args lo (default 0) and hi (default len(a)) bound the\n",
      "    slice of a to be searched.\n",
      "\n"
     ]
    }
   ],
   "source": [
    "help(bisect.bisect_right)"
   ]
  },
  {
   "cell_type": "code",
   "execution_count": 256,
   "metadata": {},
   "outputs": [
    {
     "name": "stdout",
     "output_type": "stream",
     "text": [
      "[1, 1, 2, 3, 3, 4, 4, 5, 7, 7]\n"
     ]
    }
   ],
   "source": [
    "a = [random.randint(0,10) for i in range(10)]\n",
    "a.sort()\n",
    "print(a)"
   ]
  },
  {
   "cell_type": "markdown",
   "metadata": {},
   "source": [
    "bisect.bisect等价于bisect_right，第一个参数为已排序序列，返回index，index之前的元素均<=第二个参数"
   ]
  },
  {
   "cell_type": "code",
   "execution_count": 257,
   "metadata": {},
   "outputs": [
    {
     "data": {
      "text/plain": [
       "7"
      ]
     },
     "execution_count": 257,
     "metadata": {},
     "output_type": "execute_result"
    }
   ],
   "source": [
    "bisect.bisect(a,4)"
   ]
  },
  {
   "cell_type": "code",
   "execution_count": 258,
   "metadata": {
    "scrolled": false
   },
   "outputs": [
    {
     "name": "stdout",
     "output_type": "stream",
     "text": [
      "Help on built-in function bisect_left in module _bisect:\n",
      "\n",
      "bisect_left(...)\n",
      "    bisect_left(a, x[, lo[, hi]]) -> index\n",
      "    \n",
      "    Return the index where to insert item x in list a, assuming a is sorted.\n",
      "    \n",
      "    The return value i is such that all e in a[:i] have e < x, and all e in\n",
      "    a[i:] have e >= x.  So if x already appears in the list, i points just\n",
      "    before the leftmost x already there.\n",
      "    \n",
      "    Optional args lo (default 0) and hi (default len(a)) bound the\n",
      "    slice of a to be searched.\n",
      "\n"
     ]
    }
   ],
   "source": [
    "help(bisect.bisect_left)"
   ]
  },
  {
   "cell_type": "markdown",
   "metadata": {},
   "source": [
    "bisect_left，第一个参数为已排序序列，返回index，index之前的元素均<第二个参数"
   ]
  },
  {
   "cell_type": "code",
   "execution_count": 259,
   "metadata": {
    "scrolled": true
   },
   "outputs": [
    {
     "data": {
      "text/plain": [
       "5"
      ]
     },
     "execution_count": 259,
     "metadata": {},
     "output_type": "execute_result"
    }
   ],
   "source": [
    "bisect.bisect_left(a,4)"
   ]
  },
  {
   "cell_type": "markdown",
   "metadata": {},
   "source": [
    "bisect 可以用来建立一个用数字作为索引的查询表格，比如说把分数和成绩 对应起来"
   ]
  },
  {
   "cell_type": "code",
   "execution_count": 260,
   "metadata": {},
   "outputs": [
    {
     "data": {
      "text/plain": [
       "['F', 'A', 'C', 'C', 'B', 'A', 'A']"
      ]
     },
     "execution_count": 260,
     "metadata": {},
     "output_type": "execute_result"
    }
   ],
   "source": [
    "def grade(score, breakpoints=(60, 70, 80, 90), grades='FDCBA'):\n",
    "    i = bisect.bisect(breakpoints, score)\n",
    "    return grades[i]\n",
    "[grade(score) for score in [33, 99, 77, 70, 89, 90, 100]]"
   ]
  },
  {
   "cell_type": "markdown",
   "metadata": {},
   "source": [
    "用bisect.insort插入新元素"
   ]
  },
  {
   "cell_type": "code",
   "execution_count": 261,
   "metadata": {},
   "outputs": [
    {
     "name": "stdout",
     "output_type": "stream",
     "text": [
      "Help on built-in function insort_right in module _bisect:\n",
      "\n",
      "insort_right(...)\n",
      "    insort_right(a, x[, lo[, hi]])\n",
      "    \n",
      "    Insert item x in list a, and keep it sorted assuming a is sorted.\n",
      "    \n",
      "    If x is already in a, insert it to the right of the rightmost x.\n",
      "    \n",
      "    Optional args lo (default 0) and hi (default len(a)) bound the\n",
      "    slice of a to be searched.\n",
      "\n"
     ]
    }
   ],
   "source": [
    "help(bisect.insort_right)"
   ]
  },
  {
   "cell_type": "markdown",
   "metadata": {},
   "source": [
    "bisect.insort_right 与 bisect.bisect_right基本一致，不同点是在相应位置插入元素"
   ]
  },
  {
   "cell_type": "code",
   "execution_count": 262,
   "metadata": {},
   "outputs": [
    {
     "name": "stdout",
     "output_type": "stream",
     "text": [
      "[0, 1, 2, 3, 4, 5, 5, 6, 7, 8, 9]\n"
     ]
    }
   ],
   "source": [
    "a = [i for i in range(10)]\n",
    "bisect.insort(a, 5)\n",
    "print(a)"
   ]
  },
  {
   "cell_type": "markdown",
   "metadata": {},
   "source": [
    "lo和hi2个参数限制了查找范围，默认lo为0，hi为len函数返回值"
   ]
  },
  {
   "cell_type": "code",
   "execution_count": 263,
   "metadata": {},
   "outputs": [
    {
     "name": "stdout",
     "output_type": "stream",
     "text": [
      "[0, 1, 2, 5, 3, 4, 5, 6, 7, 8, 9]\n"
     ]
    }
   ],
   "source": [
    "a = [i for i in range(10)]\n",
    "bisect.insort(a, 5, lo=0, hi=3)\n",
    "print(a)"
   ]
  },
  {
   "cell_type": "markdown",
   "metadata": {},
   "source": [
    "# 9. 列表外其他选择"
   ]
  },
  {
   "cell_type": "markdown",
   "metadata": {},
   "source": [
    "虽然列表既灵活又简单，但面对各类需求时，我们可能会有更好的选择。比如，要存放\n",
    "1000 万个浮点数的话，数组（ array）的效率要高得多，因为数组在背后存的并不是\n",
    "float 对象，而是数字的机器翻译，也就是字节表述。这一点就跟 C 语言中的数组一\n",
    "样。  \n",
    "再比如说，如果需要频繁对序列做先进先出的操作， deque（双端队列）的速度应该会更快。  \n",
    "如果在你的代码里，包含操作（比如检查一个元素是否出现在一个集合中）的\n",
    "频率很高，用 set（集合）会更合适。 set 专为检查元素是否存在做过优化。但是它\n",
    "并不是序列，因为 set 是无序的。"
   ]
  },
  {
   "cell_type": "markdown",
   "metadata": {},
   "source": [
    "- 数组array.array"
   ]
  },
  {
   "cell_type": "code",
   "execution_count": 264,
   "metadata": {},
   "outputs": [],
   "source": [
    "from array import array\n",
    "# help(array)"
   ]
  },
  {
   "cell_type": "code",
   "execution_count": 265,
   "metadata": {},
   "outputs": [],
   "source": [
    "floats = array('d', (random.random() for i in range(10**7))) "
   ]
  },
  {
   "cell_type": "code",
   "execution_count": 266,
   "metadata": {},
   "outputs": [
    {
     "data": {
      "text/plain": [
       "10000000"
      ]
     },
     "execution_count": 266,
     "metadata": {},
     "output_type": "execute_result"
    }
   ],
   "source": [
    "len(floats)"
   ]
  },
  {
   "cell_type": "code",
   "execution_count": 267,
   "metadata": {},
   "outputs": [],
   "source": [
    "with open('floats.bin','wb') as f:\n",
    "    floats.tofile(f)"
   ]
  },
  {
   "cell_type": "code",
   "execution_count": 268,
   "metadata": {},
   "outputs": [],
   "source": [
    "# help(array.fromfile)"
   ]
  },
  {
   "cell_type": "code",
   "execution_count": 269,
   "metadata": {},
   "outputs": [
    {
     "data": {
      "text/plain": [
       "10000000"
      ]
     },
     "execution_count": 269,
     "metadata": {},
     "output_type": "execute_result"
    }
   ],
   "source": [
    "floats2 = array('d')\n",
    "with open('floats.bin','rb') as f: \n",
    "    floats2.fromfile(f,10**7)\n",
    "len(floats2)"
   ]
  },
  {
   "cell_type": "markdown",
   "metadata": {},
   "source": [
    "可以查看数组存储的typecode"
   ]
  },
  {
   "cell_type": "code",
   "execution_count": 270,
   "metadata": {
    "scrolled": true
   },
   "outputs": [
    {
     "data": {
      "text/plain": [
       "'d'"
      ]
     },
     "execution_count": 270,
     "metadata": {},
     "output_type": "execute_result"
    }
   ],
   "source": [
    "floats.typecode"
   ]
  },
  {
   "cell_type": "markdown",
   "metadata": {},
   "source": [
    "- 内存视图memoryview  \n",
    "memoryview 是一个内置类，它能让用户在不复制内容的情况下操作同一个数组的不同切片。 "
   ]
  },
  {
   "cell_type": "code",
   "execution_count": 271,
   "metadata": {},
   "outputs": [],
   "source": [
    "# help(memoryview)"
   ]
  },
  {
   "cell_type": "code",
   "execution_count": 272,
   "metadata": {},
   "outputs": [],
   "source": [
    "numbers = array('h', [-2, -1, 0, 1, 2])\n",
    "memv = memoryview(numbers)"
   ]
  },
  {
   "cell_type": "markdown",
   "metadata": {},
   "source": [
    "memoryview.cast 会把同一块内存里的内容打包成一个全新的 memoryview 对象给你。"
   ]
  },
  {
   "cell_type": "code",
   "execution_count": 273,
   "metadata": {},
   "outputs": [
    {
     "name": "stdout",
     "output_type": "stream",
     "text": [
      "[254, 255, 255, 255, 0, 0, 1, 0, 2, 0]\n"
     ]
    }
   ],
   "source": [
    "memv_oct = memv.cast('B')\n",
    "print(memv_oct.tolist())"
   ]
  },
  {
   "cell_type": "markdown",
   "metadata": {},
   "source": [
    "- 双向队列和其他形式队列"
   ]
  },
  {
   "cell_type": "markdown",
   "metadata": {},
   "source": [
    "collections.deque 类（双向队列）是一个线程安全、可以快速从两端添加或者删除元\n",
    "素的数据类型。而且如果想要有一种数据类型来存放“最近用到的几个元素”， deque 也是\n",
    "一个很好的选择。这是因为在新建一个双向队列的时候，你可以指定这个队列的大小，如\n",
    "果这个队列满员了，还可以从反向端删除过期的元素，然后在尾端添加新的元素。"
   ]
  },
  {
   "cell_type": "markdown",
   "metadata": {},
   "source": [
    "queue  \n",
    "　　提供了同步（线程安全）类 Queue、 LifoQueue 和 PriorityQueue，不同的线程可\n",
    "以利用这些数据类型来交换信息。这三个类的构造方法都有一个可选参数 maxsize，它\n",
    "接收正整数作为输入值，用来限定队列的大小。但是在满员的时候，这些类不会扔掉旧的\n",
    "元素来腾出位置。相反，如果队列满了，它就会被锁住，直到另外的线程移除了某个元素\n",
    "而腾出了位置。这一特性让这些类很适合用来控制活跃线程的数量。"
   ]
  },
  {
   "cell_type": "markdown",
   "metadata": {},
   "source": [
    "multiprocessing  \n",
    "　　这个包实现了自己的 Queue，它跟 queue.Queue 类似，是设计给进程间通信用的。\n",
    "同时还有一个专门的 multiprocessing.JoinableQueue 类型，可以让任务管理变得更\n",
    "方便。"
   ]
  },
  {
   "cell_type": "markdown",
   "metadata": {},
   "source": [
    "asyncio  \n",
    "　　 Python 3.4 新提供的包，里面有 Queue、 LifoQueue、 PriorityQueue 和\n",
    "JoinableQueue，这些类受到 queue 和 multiprocessing 模块的影响，但是为异步编\n",
    "程里的任务管理提供了专门的便利。"
   ]
  },
  {
   "cell_type": "markdown",
   "metadata": {},
   "source": [
    "heapq  \n",
    "跟上面三个模块不同的是， heapq 没有队列类，而是提供了 heappush 和 heappop\n",
    "方法，让用户可以把可变序列当作堆队列或者优先队列来使用。"
   ]
  },
  {
   "cell_type": "code",
   "execution_count": 274,
   "metadata": {},
   "outputs": [],
   "source": [
    "import heapq\n",
    "# help(heapq)"
   ]
  },
  {
   "cell_type": "markdown",
   "metadata": {},
   "source": [
    "将一个list原地转换为符合小顶堆"
   ]
  },
  {
   "cell_type": "code",
   "execution_count": 275,
   "metadata": {},
   "outputs": [
    {
     "name": "stdout",
     "output_type": "stream",
     "text": [
      "[2, 3, 2, 6, 5, 8, 9, 7, 8, 5]\n",
      "2\n",
      "2\n",
      "3\n",
      "5\n",
      "5\n",
      "6\n",
      "7\n",
      "8\n",
      "8\n",
      "9\n"
     ]
    }
   ],
   "source": [
    "a = [random.randint(0,10) for i in range(10)]\n",
    "heapq.heapify(a)\n",
    "print(a)\n",
    "for i in range(10):\n",
    "    print(heapq.heappop(a))"
   ]
  }
 ],
 "metadata": {
  "anaconda-cloud": {},
  "kernelspec": {
   "display_name": "Python 3",
   "language": "python",
   "name": "python3"
  }
 },
 "nbformat": 4,
 "nbformat_minor": 1
}
