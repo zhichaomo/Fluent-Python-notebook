{
 "cells": [
  {
   "cell_type": "markdown",
   "metadata": {},
   "source": [
    "# 1. 把函数视作对象"
   ]
  },
  {
   "cell_type": "markdown",
   "metadata": {},
   "source": [
    "Python 函数是对象。"
   ]
  },
  {
   "cell_type": "code",
   "execution_count": 154,
   "metadata": {
    "collapsed": true
   },
   "outputs": [],
   "source": [
    "def factorial(n):\n",
    "    '''return n factorial'''\n",
    "    return 1 if n<2 else n*factorial(n-1)"
   ]
  },
  {
   "cell_type": "markdown",
   "metadata": {},
   "source": [
    "函数对象本身是 function 类的实例。"
   ]
  },
  {
   "cell_type": "code",
   "execution_count": 155,
   "metadata": {
    "collapsed": false,
    "scrolled": true
   },
   "outputs": [
    {
     "data": {
      "text/plain": [
       "function"
      ]
     },
     "execution_count": 155,
     "metadata": {},
     "output_type": "execute_result"
    }
   ],
   "source": [
    "type(factorial)"
   ]
  },
  {
   "cell_type": "markdown",
   "metadata": {},
   "source": [
    "查看函数的doc"
   ]
  },
  {
   "cell_type": "code",
   "execution_count": 156,
   "metadata": {
    "collapsed": false
   },
   "outputs": [
    {
     "data": {
      "text/plain": [
       "'return n factorial'"
      ]
     },
     "execution_count": 156,
     "metadata": {},
     "output_type": "execute_result"
    }
   ],
   "source": [
    "factorial.__doc__"
   ]
  },
  {
   "cell_type": "markdown",
   "metadata": {},
   "source": [
    "函数可以赋值，并且作为参数传递"
   ]
  },
  {
   "cell_type": "code",
   "execution_count": 157,
   "metadata": {
    "collapsed": false,
    "scrolled": true
   },
   "outputs": [
    {
     "data": {
      "text/plain": [
       "[1, 1, 2, 6, 24, 120, 720, 5040, 40320, 362880]"
      ]
     },
     "execution_count": 157,
     "metadata": {},
     "output_type": "execute_result"
    }
   ],
   "source": [
    "fact = factorial\n",
    "list(map(fact, range(10)))"
   ]
  },
  {
   "cell_type": "markdown",
   "metadata": {},
   "source": [
    "# 2. 高阶函数"
   ]
  },
  {
   "cell_type": "markdown",
   "metadata": {},
   "source": [
    "接受函数为参数，或者把函数作为结果返回的函数是高阶函数"
   ]
  },
  {
   "cell_type": "code",
   "execution_count": 158,
   "metadata": {
    "collapsed": true
   },
   "outputs": [],
   "source": [
    "fruits = ['strawberry', 'fig', 'apple', 'cherry', 'raspberry', 'banana']"
   ]
  },
  {
   "cell_type": "markdown",
   "metadata": {},
   "source": [
    "若想根据单词的长度排序，只需把 len 函数传给 key 参数"
   ]
  },
  {
   "cell_type": "code",
   "execution_count": 159,
   "metadata": {
    "collapsed": false,
    "scrolled": true
   },
   "outputs": [
    {
     "data": {
      "text/plain": [
       "['fig', 'apple', 'cherry', 'banana', 'raspberry', 'strawberry']"
      ]
     },
     "execution_count": 159,
     "metadata": {},
     "output_type": "execute_result"
    }
   ],
   "source": [
    "sorted(fruits, key = len)"
   ]
  },
  {
   "cell_type": "markdown",
   "metadata": {},
   "source": [
    "任何单参数函数都能作为 key 参数的值。"
   ]
  },
  {
   "cell_type": "markdown",
   "metadata": {},
   "source": [
    "把反向拼写当作排序条件"
   ]
  },
  {
   "cell_type": "code",
   "execution_count": 160,
   "metadata": {
    "collapsed": true
   },
   "outputs": [],
   "source": [
    "def reverse(word):\n",
    "    return word[::-1]"
   ]
  },
  {
   "cell_type": "code",
   "execution_count": 161,
   "metadata": {
    "collapsed": false
   },
   "outputs": [
    {
     "data": {
      "text/plain": [
       "['banana', 'apple', 'fig', 'raspberry', 'strawberry', 'cherry']"
      ]
     },
     "execution_count": 161,
     "metadata": {},
     "output_type": "execute_result"
    }
   ],
   "source": [
    "sorted(fruits, key = reverse)"
   ]
  },
  {
   "cell_type": "markdown",
   "metadata": {},
   "source": [
    "map、 filter和reduce的现代替代品  \n",
    "函数式语言通常会提供 map、 filter 和 reduce 三个高阶函数（有时使用不同的名\n",
    "称）。在 Python 3 中， map 和 filter 还是内置函数，但是由于引入了列表推导和生成器\n",
    "表达式，它们变得没那么重要了。列表推导或生成器表达式具有 map 和 filter 两个函数\n",
    "的功能，而且更易于阅读"
   ]
  },
  {
   "cell_type": "markdown",
   "metadata": {},
   "source": [
    "在 Python 3 中， map 和 filter 返回生成器（一种迭代器），因此现在它们的直接替代品\n",
    "是生成器表达式（在 Python 2 中，这两个函数返回列表，因此最接近的替代品是列表推\n",
    "导）。"
   ]
  },
  {
   "cell_type": "code",
   "execution_count": 162,
   "metadata": {
    "collapsed": false
   },
   "outputs": [
    {
     "data": {
      "text/plain": [
       "[1, 1, 2, 6, 24, 120, 720, 5040, 40320, 362880]"
      ]
     },
     "execution_count": 162,
     "metadata": {},
     "output_type": "execute_result"
    }
   ],
   "source": [
    "list(map(fact, range(10)))"
   ]
  },
  {
   "cell_type": "code",
   "execution_count": 163,
   "metadata": {
    "collapsed": false
   },
   "outputs": [
    {
     "data": {
      "text/plain": [
       "[1, 1, 2, 6, 24, 120, 720, 5040, 40320, 362880]"
      ]
     },
     "execution_count": 163,
     "metadata": {},
     "output_type": "execute_result"
    }
   ],
   "source": [
    "[fact(i) for i in range(10)]"
   ]
  },
  {
   "cell_type": "code",
   "execution_count": 164,
   "metadata": {
    "collapsed": false
   },
   "outputs": [
    {
     "data": {
      "text/plain": [
       "[1, 6, 120, 5040, 362880]"
      ]
     },
     "execution_count": 164,
     "metadata": {},
     "output_type": "execute_result"
    }
   ],
   "source": [
    "list(map(fact, filter(lambda x: x%2, range(10))))"
   ]
  },
  {
   "cell_type": "code",
   "execution_count": 165,
   "metadata": {
    "collapsed": false
   },
   "outputs": [
    {
     "data": {
      "text/plain": [
       "[1, 6, 120, 5040, 362880]"
      ]
     },
     "execution_count": 165,
     "metadata": {},
     "output_type": "execute_result"
    }
   ],
   "source": [
    "[fact(i) for i in range(10) if i%2]"
   ]
  },
  {
   "cell_type": "markdown",
   "metadata": {},
   "source": [
    "在 Python 2 中， reduce 是内置函数，但是在 Python 3 中放到 functools 模块里了。"
   ]
  },
  {
   "cell_type": "markdown",
   "metadata": {},
   "source": [
    "# 3. 匿名函数"
   ]
  },
  {
   "cell_type": "markdown",
   "metadata": {},
   "source": [
    "Python 简单的句法限制了 lambda 函数的定义体只能使用纯表达式。换句话说， lambda 函数的定义体中不能赋值，也不能使用 while 和 try 等 Python 语句"
   ]
  },
  {
   "cell_type": "code",
   "execution_count": 166,
   "metadata": {
    "collapsed": false
   },
   "outputs": [
    {
     "data": {
      "text/plain": [
       "['banana', 'apple', 'fig', 'raspberry', 'strawberry', 'cherry']"
      ]
     },
     "execution_count": 166,
     "metadata": {},
     "output_type": "execute_result"
    }
   ],
   "source": [
    "sorted(fruits, key = lambda word : word[::-1])"
   ]
  },
  {
   "cell_type": "markdown",
   "metadata": {},
   "source": [
    "Lundh 提出的 lambda 表达式重构秘笈如果使用 lambda 表达式导致一段代码难以理解， Fredrik Lundh 建议像下面这样重构。\n",
    "- 编写注释，说明 lambda 表达式的作用。\n",
    "- 研究一会儿注释，并找出一个名称来概括注释。\n",
    "- 把 lambda 表达式转换成 def 语句，使用那个名称来定义函数。\n",
    "- 删除注释。"
   ]
  },
  {
   "cell_type": "markdown",
   "metadata": {},
   "source": [
    "# 4. 可调用对象"
   ]
  },
  {
   "cell_type": "markdown",
   "metadata": {},
   "source": [
    "除了用户定义的函数，调用运算符（即 ()）还可以应用到其他对象上。如果想判断对象能否调用，可以使用内置的 callable() 函数。 Python 数据模型文档列出了 7 种可调用对象。"
   ]
  },
  {
   "cell_type": "markdown",
   "metadata": {},
   "source": [
    "- 用户定义的函数  \n",
    "　　使用 def 语句或 lambda 表达式创建。\n",
    "- 内置函数  \n",
    "　　使用 C 语言（ CPython）实现的函数，如 len 或 time.strftime。\n",
    "- 内置方法  \n",
    "　　使用 C 语言实现的方法，如 dict.get。\n",
    "- 方法  \n",
    "　　在类的定义体中定义的函数。\n",
    "- 类  \n",
    "　　调用类时会运行类的 \\__new\\__ 方法创建一个实例，然后运行 \\__init\\__ 方法，初始化实例，最后把实例返回给调用方。因为 Python 没有 new 运算符，所以调用类相当于调用函数。（通常，调用类会创建那个类的实例，不过覆盖 \\__new\\__ 方法的话，也可能出现其他行为。）\n",
    "- 类的实例  \n",
    "　　如果类定义了 \\__call\\__ 方法，那么它的实例可以作为函数调用。\n",
    "- 生成器函数  \n",
    "　　使用 yield 关键字的函数或方法。调用生成器函数返回的是生成器对象。"
   ]
  },
  {
   "cell_type": "markdown",
   "metadata": {},
   "source": [
    "Python 中有各种各样可调用的类型，因此判断对象能否调用，最安全的方法是使用内置的 callable() 函数："
   ]
  },
  {
   "cell_type": "code",
   "execution_count": 167,
   "metadata": {
    "collapsed": false
   },
   "outputs": [
    {
     "data": {
      "text/plain": [
       "[True, True, False]"
      ]
     },
     "execution_count": 167,
     "metadata": {},
     "output_type": "execute_result"
    }
   ],
   "source": [
    "[callable(obj) for obj in (abs, str, 13)]"
   ]
  },
  {
   "cell_type": "markdown",
   "metadata": {},
   "source": [
    "# 5. 用户定义的可调用类型"
   ]
  },
  {
   "cell_type": "markdown",
   "metadata": {},
   "source": [
    "不仅 Python 函数是真正的对象，任何 Python 对象都可以表现得像函数。为此，只需实现实例方法 \\__call\\__。"
   ]
  },
  {
   "cell_type": "code",
   "execution_count": 168,
   "metadata": {
    "collapsed": true
   },
   "outputs": [],
   "source": [
    "import random\n",
    "class BingoCage:\n",
    "    def __init__(self, items):\n",
    "        self._items = list(items)\n",
    "        random.shuffle(self._items)\n",
    "    def pick(self):\n",
    "        try:\n",
    "            return self._items.pop()\n",
    "        except IndexError:\n",
    "            raise LookupError('pick from empty BingoCage')\n",
    "    def __call__(self):\n",
    "        return self.pick()"
   ]
  },
  {
   "cell_type": "code",
   "execution_count": 169,
   "metadata": {
    "collapsed": false
   },
   "outputs": [],
   "source": [
    "bc = BingoCage(range(5))"
   ]
  },
  {
   "cell_type": "code",
   "execution_count": 170,
   "metadata": {
    "collapsed": false
   },
   "outputs": [
    {
     "data": {
      "text/plain": [
       "1"
      ]
     },
     "execution_count": 170,
     "metadata": {},
     "output_type": "execute_result"
    }
   ],
   "source": [
    "bc()"
   ]
  },
  {
   "cell_type": "code",
   "execution_count": 171,
   "metadata": {
    "collapsed": false
   },
   "outputs": [
    {
     "data": {
      "text/plain": [
       "0"
      ]
     },
     "execution_count": 171,
     "metadata": {},
     "output_type": "execute_result"
    }
   ],
   "source": [
    "bc.pick()"
   ]
  },
  {
   "cell_type": "code",
   "execution_count": 172,
   "metadata": {
    "collapsed": false,
    "scrolled": true
   },
   "outputs": [
    {
     "data": {
      "text/plain": [
       "3"
      ]
     },
     "execution_count": 172,
     "metadata": {},
     "output_type": "execute_result"
    }
   ],
   "source": [
    "bc()"
   ]
  },
  {
   "cell_type": "markdown",
   "metadata": {},
   "source": [
    "# 6. 函数内省"
   ]
  },
  {
   "cell_type": "markdown",
   "metadata": {},
   "source": [
    "除了 __doc__，函数对象还有很多属性。使用 dir 函数可以探知 factorial 具有下述属性"
   ]
  },
  {
   "cell_type": "code",
   "execution_count": 173,
   "metadata": {
    "collapsed": true
   },
   "outputs": [],
   "source": [
    "def fun(a,b=0):\n",
    "    '''return n factorial'''\n",
    "    return a*b"
   ]
  },
  {
   "cell_type": "code",
   "execution_count": 174,
   "metadata": {
    "collapsed": false,
    "scrolled": true
   },
   "outputs": [
    {
     "data": {
      "text/plain": [
       "['__annotations__',\n",
       " '__call__',\n",
       " '__class__',\n",
       " '__closure__',\n",
       " '__code__',\n",
       " '__defaults__',\n",
       " '__delattr__',\n",
       " '__dict__',\n",
       " '__dir__',\n",
       " '__doc__',\n",
       " '__eq__',\n",
       " '__format__',\n",
       " '__ge__',\n",
       " '__get__',\n",
       " '__getattribute__',\n",
       " '__globals__',\n",
       " '__gt__',\n",
       " '__hash__',\n",
       " '__init__',\n",
       " '__kwdefaults__',\n",
       " '__le__',\n",
       " '__lt__',\n",
       " '__module__',\n",
       " '__name__',\n",
       " '__ne__',\n",
       " '__new__',\n",
       " '__qualname__',\n",
       " '__reduce__',\n",
       " '__reduce_ex__',\n",
       " '__repr__',\n",
       " '__setattr__',\n",
       " '__sizeof__',\n",
       " '__str__',\n",
       " '__subclasshook__']"
      ]
     },
     "execution_count": 174,
     "metadata": {},
     "output_type": "execute_result"
    }
   ],
   "source": [
    "dir(fun)"
   ]
  },
  {
   "cell_type": "markdown",
   "metadata": {},
   "source": [
    "列出常规对象没有而函数有的属性"
   ]
  },
  {
   "cell_type": "code",
   "execution_count": 175,
   "metadata": {
    "collapsed": false
   },
   "outputs": [
    {
     "data": {
      "text/plain": [
       "['__annotations__',\n",
       " '__call__',\n",
       " '__closure__',\n",
       " '__code__',\n",
       " '__defaults__',\n",
       " '__get__',\n",
       " '__globals__',\n",
       " '__kwdefaults__',\n",
       " '__name__',\n",
       " '__qualname__']"
      ]
     },
     "execution_count": 175,
     "metadata": {},
     "output_type": "execute_result"
    }
   ],
   "source": [
    "class A(object):\n",
    "    pass\n",
    "sorted(set(dir(fun)) - set(dir(A)))"
   ]
  },
  {
   "cell_type": "markdown",
   "metadata": {},
   "source": [
    "名称 |类型 |说明\n",
    "--|--|--\n",
    "\\__annotations\\__ | dict | 参数和返回值的注解\n",
    "\\__call\\__  |methodwrapper | 实现 () 运算符；即可调用对象协议\n",
    "\\__closure\\__ | tuple | 函数闭包，即自由变量的绑定（通常是 None）\n",
    "\\__code\\__ | code | 编译成字节码的函数元数据和函数定义体\n",
    "\\__defaults\\__ | tuple | 形式参数的默认值\n",
    "\\__get\\__ | methodwrapper | 实现只读描述符协议（参见第 20 章）\n",
    "\\__globals\\__ | dict | 函数所在模块中的全局变量\n",
    "\\__kwdefaults\\__ | dict | 仅限关键字形式参数的默认值\n",
    "\\__name\\__ | str | 函数名称\n",
    "\\__qualname\\__ | str | 函数的限定名"
   ]
  },
  {
   "cell_type": "code",
   "execution_count": 176,
   "metadata": {
    "collapsed": false
   },
   "outputs": [
    {
     "data": {
      "text/plain": [
       "(0,)"
      ]
     },
     "execution_count": 176,
     "metadata": {},
     "output_type": "execute_result"
    }
   ],
   "source": [
    "fun.__defaults__"
   ]
  },
  {
   "cell_type": "markdown",
   "metadata": {},
   "source": [
    "# 7. 从定位参数到仅限关键字参数"
   ]
  },
  {
   "cell_type": "markdown",
   "metadata": {},
   "source": [
    " Python 3 进一步提供了仅限关键字参数（ keyword-only argument）。调用函数时使用 \\* 和 \\* \\* 展开”可迭代对象，映射到单个参数。"
   ]
  },
  {
   "cell_type": "code",
   "execution_count": 177,
   "metadata": {
    "collapsed": true
   },
   "outputs": [],
   "source": [
    "def fun(a, *args, b=0, **kwargs):\n",
    "    sum = a\n",
    "    for i in args:\n",
    "        sum+=i\n",
    "    sum+=b\n",
    "    for v in kwargs.values():\n",
    "        sum+=v\n",
    "    return sum"
   ]
  },
  {
   "cell_type": "code",
   "execution_count": 178,
   "metadata": {
    "collapsed": false
   },
   "outputs": [
    {
     "data": {
      "text/plain": [
       "6"
      ]
     },
     "execution_count": 178,
     "metadata": {},
     "output_type": "execute_result"
    }
   ],
   "source": [
    "fun(1,2,3)"
   ]
  },
  {
   "cell_type": "code",
   "execution_count": 179,
   "metadata": {
    "collapsed": false
   },
   "outputs": [
    {
     "data": {
      "text/plain": [
       "21"
      ]
     },
     "execution_count": 179,
     "metadata": {},
     "output_type": "execute_result"
    }
   ],
   "source": [
    "fun(1,2,3,4, b = 5, c = 6)"
   ]
  },
  {
   "cell_type": "markdown",
   "metadata": {},
   "source": [
    "仅限关键字参数是 Python 3 新增的特性。在示例中， b 参数只能通过关键字参数指定，它一定不会捕获未命名的定位参数。定义函数时若想指定仅限关键字参数，要把它们放到前面有 \\* 的参数后面。如果不想支持数量不定的定位参数，但是想支持仅限关键字参数，在签名中放一个 \\*"
   ]
  },
  {
   "cell_type": "markdown",
   "metadata": {},
   "source": [
    "# 8. 获取关于参数的信息"
   ]
  },
  {
   "cell_type": "markdown",
   "metadata": {},
   "source": [
    "如下所示：  \n",
    "```python\n",
    "import bobo\n",
    "@bobo.query('/')\n",
    "def hello(person):\n",
    "    return 'Hello %s!' % perso\n",
    "```\n",
    "Bobo 会内省 hello 函数，发现它需要一个名为 person 的参数，然后从请求中获取那个名称对应的参数，将其传给 hello 函数"
   ]
  },
  {
   "cell_type": "code",
   "execution_count": 180,
   "metadata": {
    "collapsed": false
   },
   "outputs": [],
   "source": [
    "def clip(text, max_len=80):\n",
    "    \"\"\"在max_len前面或后面的第一个空格处截断文本\n",
    "    \"\"\"\n",
    "    end = None\n",
    "    if len(text) > max_len:\n",
    "        space_before = text.rfind(' ', 0, max_len)\n",
    "        if space_before >= 0:\n",
    "            end = space_before\n",
    "        else:\n",
    "            space_after = text.rfind(' ', max_len)\n",
    "            if space_after >= 0:\n",
    "                end = space_after\n",
    "    if end is None:\n",
    "        end = len(text)\n",
    "    return text[:end].rstrip()"
   ]
  },
  {
   "cell_type": "code",
   "execution_count": 181,
   "metadata": {
    "collapsed": false,
    "scrolled": true
   },
   "outputs": [
    {
     "data": {
      "text/plain": [
       "(80,)"
      ]
     },
     "execution_count": 181,
     "metadata": {},
     "output_type": "execute_result"
    }
   ],
   "source": [
    "clip.__defaults__"
   ]
  },
  {
   "cell_type": "code",
   "execution_count": 182,
   "metadata": {
    "collapsed": false,
    "scrolled": true
   },
   "outputs": [
    {
     "data": {
      "text/plain": [
       "2"
      ]
     },
     "execution_count": 182,
     "metadata": {},
     "output_type": "execute_result"
    }
   ],
   "source": [
    "clip.__code__.co_argcount"
   ]
  },
  {
   "cell_type": "code",
   "execution_count": 183,
   "metadata": {
    "collapsed": false,
    "scrolled": true
   },
   "outputs": [
    {
     "data": {
      "text/plain": [
       "0"
      ]
     },
     "execution_count": 183,
     "metadata": {},
     "output_type": "execute_result"
    }
   ],
   "source": [
    "clip.__code__.co_kwonlyargcount"
   ]
  },
  {
   "cell_type": "code",
   "execution_count": 184,
   "metadata": {
    "collapsed": false,
    "scrolled": true
   },
   "outputs": [
    {
     "data": {
      "text/plain": [
       "('text', 'max_len', 'end', 'space_before', 'space_after')"
      ]
     },
     "execution_count": 184,
     "metadata": {},
     "output_type": "execute_result"
    }
   ],
   "source": [
    "clip.__code__.co_varnames"
   ]
  },
  {
   "cell_type": "markdown",
   "metadata": {},
   "source": [
    "以上的信息不利于查看，我们有更好的方式——使用 inspect 模块。"
   ]
  },
  {
   "cell_type": "code",
   "execution_count": 185,
   "metadata": {
    "collapsed": true
   },
   "outputs": [],
   "source": [
    "import inspect"
   ]
  },
  {
   "cell_type": "code",
   "execution_count": 186,
   "metadata": {
    "collapsed": false
   },
   "outputs": [],
   "source": [
    "inspect?"
   ]
  },
  {
   "cell_type": "code",
   "execution_count": 187,
   "metadata": {
    "collapsed": false,
    "scrolled": true
   },
   "outputs": [
    {
     "name": "stdout",
     "output_type": "stream",
     "text": [
      "(text, max_len=80)\n"
     ]
    }
   ],
   "source": [
    "sig = inspect.signature(clip)\n",
    "print(sig)"
   ]
  },
  {
   "cell_type": "code",
   "execution_count": 188,
   "metadata": {
    "collapsed": false
   },
   "outputs": [
    {
     "name": "stdout",
     "output_type": "stream",
     "text": [
      "POSITIONAL_OR_KEYWORD : text = <class 'inspect._empty'>\n",
      "POSITIONAL_OR_KEYWORD : max_len = 80\n"
     ]
    }
   ],
   "source": [
    "for name, param in sig.parameters.items():\n",
    "    print(param.kind, ':', name, '=', param.default)"
   ]
  },
  {
   "cell_type": "markdown",
   "metadata": {},
   "source": [
    "kind 属性的值是 \\_ParameterKind 类中的 5 个值之一，列举如下。\n",
    "- POSITIONAL_OR_KEYWORD  \n",
    "　　可以通过定位参数和关键字参数传入的形参（多数 Python 函数的参数属于此类）。\n",
    "- VAR_POSITIONAL  \n",
    "　　定位参数元组。\n",
    "- VAR_KEYWORD  \n",
    "　　关键字参数字典。\n",
    "- KEYWORD_ONLY  \n",
    "　　仅限关键字参数（ Python 3 新增）。\n",
    "- POSITIONAL_ONLY  \n",
    "　　仅限定位参数；目前， Python 声明函数的句法不支持，但是有些使用 C 语言实现且不接受关键字参数的函数（如 divmod）支持"
   ]
  },
  {
   "cell_type": "markdown",
   "metadata": {},
   "source": [
    "inspect.Signature 对象有个 bind 方法，它可以把任意个参数绑定到签名中的形参上，所用的规则与实参到形参的匹配方式一样。框架可以使用这个方法在真正调用函数前验证参数"
   ]
  },
  {
   "cell_type": "code",
   "execution_count": 189,
   "metadata": {
    "collapsed": false,
    "scrolled": false
   },
   "outputs": [
    {
     "name": "stdout",
     "output_type": "stream",
     "text": [
      "Help on function bind in module inspect:\n",
      "\n",
      "bind(*args, **kwargs)\n",
      "    Get a BoundArguments object, that maps the passed `args`\n",
      "    and `kwargs` to the function's signature.  Raises `TypeError`\n",
      "    if the passed arguments can not be bound.\n",
      "\n"
     ]
    }
   ],
   "source": [
    "help(inspect.Signature.bind)"
   ]
  },
  {
   "cell_type": "code",
   "execution_count": 190,
   "metadata": {
    "collapsed": false
   },
   "outputs": [
    {
     "name": "stdout",
     "output_type": "stream",
     "text": [
      "<BoundArguments (text='1234567890 1234567890', max_len=10)>\n"
     ]
    }
   ],
   "source": [
    "bound_args = sig.bind('1234567890 1234567890',max_len = 10)\n",
    "print(bound_args)"
   ]
  },
  {
   "cell_type": "markdown",
   "metadata": {},
   "source": [
    "# 9. 函数注解"
   ]
  },
  {
   "cell_type": "markdown",
   "metadata": {},
   "source": [
    "Python 3 提供了一种句法，用于为函数声明中的参数和返回值附加元数据。"
   ]
  },
  {
   "cell_type": "code",
   "execution_count": 191,
   "metadata": {
    "collapsed": true
   },
   "outputs": [],
   "source": [
    "def clip(text:str, max_len:'int>0'=80) -> str:\n",
    "    \"\"\"在max_len前面或后面的第一个空格处截断文本\n",
    "    \"\"\"\n",
    "    end = None\n",
    "    if len(text) > max_len:\n",
    "        space_before = text.rfind(' ', 0, max_len)\n",
    "        if space_before >= 0:\n",
    "            end = space_before\n",
    "        else:\n",
    "            space_after = text.rfind(' ', max_len)\n",
    "            if space_after >= 0:\n",
    "                end = space_after\n",
    "    if end is None:\n",
    "        end = len(text)\n",
    "    return text[:end].rstrip()"
   ]
  },
  {
   "cell_type": "markdown",
   "metadata": {},
   "source": [
    "函数声明中的各个参数可以在 : 之后增加注解表达式。如果参数有默认值，注解放在参数名和 = 号之间。如果想注解返回值，在 ) 和函数声明末尾的 : 之间添加 -> 和一个表达式。那个表达式可以是任何类型。注解中最常用的类型是类（如 str 或 int）和字符串（如 'int > 0'）。"
   ]
  },
  {
   "cell_type": "markdown",
   "metadata": {},
   "source": [
    "Python 对注解所做的唯一的事情是，把它们存储在函数的 \\__annotations\\__ 属性里。仅此而已， Python 不做检查、不做强制、不做验证，什么操作都不做。"
   ]
  },
  {
   "cell_type": "markdown",
   "metadata": {},
   "source": [
    "# 10.支持函数式编程的包"
   ]
  },
  {
   "cell_type": "markdown",
   "metadata": {},
   "source": [
    " Python 的目标不是变成函数式编程语言，但是得益于 operator 和functools 等包的支持，函数式编程风格也可以信手拈来。"
   ]
  },
  {
   "cell_type": "markdown",
   "metadata": {},
   "source": [
    "## 10.1 operator模块"
   ]
  },
  {
   "cell_type": "markdown",
   "metadata": {},
   "source": [
    "operator 模块为多个算术运算符提供了对应的函数, 如 add mul等"
   ]
  },
  {
   "cell_type": "markdown",
   "metadata": {},
   "source": [
    "使用 reduce 和 operator.mul 函数计算阶乘"
   ]
  },
  {
   "cell_type": "code",
   "execution_count": 192,
   "metadata": {
    "collapsed": false,
    "scrolled": true
   },
   "outputs": [
    {
     "data": {
      "text/plain": [
       "362880"
      ]
     },
     "execution_count": 192,
     "metadata": {},
     "output_type": "execute_result"
    }
   ],
   "source": [
    "from operator import mul\n",
    "from functools import reduce\n",
    "def fact(n):\n",
    "    return reduce(mul, range(1,n))\n",
    "fact(10)"
   ]
  },
  {
   "cell_type": "markdown",
   "metadata": {},
   "source": [
    "operator 模块中还有一类函数，能替代从序列中取出元素或读取对象属性，如 itemgetter 和 attrgetter 其实会** 自行构建函数 **。"
   ]
  },
  {
   "cell_type": "markdown",
   "metadata": {},
   "source": [
    "### 1. itemgetter"
   ]
  },
  {
   "cell_type": "code",
   "execution_count": 193,
   "metadata": {
    "collapsed": true
   },
   "outputs": [],
   "source": [
    "metro_data = [\n",
    "    ('Tokyo', 'JP', 36.933, (35.689722, 139.691667)),\n",
    "    ('Delhi NCR', 'IN', 21.935, (28.613889, 77.208889)),\n",
    "    ('Mexico City', 'MX', 20.142, (19.433333, -99.133333)),\n",
    "    ('New York-Newark', 'US', 20.104, (40.808611, -74.020386)),\n",
    "    ('Sao Paulo', 'BR', 19.649, (-23.547778, -46.635833)),\n",
    "    ]"
   ]
  },
  {
   "cell_type": "code",
   "execution_count": 194,
   "metadata": {
    "collapsed": false
   },
   "outputs": [
    {
     "data": {
      "text/plain": [
       "[('Sao Paulo', 'BR', 19.649, (-23.547778, -46.635833)),\n",
       " ('Delhi NCR', 'IN', 21.935, (28.613889, 77.208889)),\n",
       " ('Tokyo', 'JP', 36.933, (35.689722, 139.691667)),\n",
       " ('Mexico City', 'MX', 20.142, (19.433333, -99.133333)),\n",
       " ('New York-Newark', 'US', 20.104, (40.808611, -74.020386))]"
      ]
     },
     "execution_count": 194,
     "metadata": {},
     "output_type": "execute_result"
    }
   ],
   "source": [
    "from operator import itemgetter\n",
    "sorted(metro_data, key=itemgetter(1))"
   ]
  },
  {
   "cell_type": "markdown",
   "metadata": {},
   "source": [
    "如果把多个参数传给 itemgetter，它构建的函数会返回提取的值构成的元组："
   ]
  },
  {
   "cell_type": "code",
   "execution_count": 195,
   "metadata": {
    "collapsed": false
   },
   "outputs": [
    {
     "name": "stdout",
     "output_type": "stream",
     "text": [
      "('JP', 'Tokyo')\n",
      "('IN', 'Delhi NCR')\n",
      "('MX', 'Mexico City')\n",
      "('US', 'New York-Newark')\n",
      "('BR', 'Sao Paulo')\n"
     ]
    }
   ],
   "source": [
    "get_city = itemgetter(1,0)\n",
    "for city in metro_data:\n",
    "    print(get_city(city))"
   ]
  },
  {
   "cell_type": "markdown",
   "metadata": {},
   "source": [
    "Tips:\n",
    "- itemgetter 使用 [] 运算符，因此它不仅支持序列，还支持映射和任何实现\\__getitem\\__ 方法的类。\n",
    "- 调用itemgetter返回的是函数，返回的函数作用于序列上获取元素"
   ]
  },
  {
   "cell_type": "markdown",
   "metadata": {},
   "source": [
    "### 2. attrgetter"
   ]
  },
  {
   "cell_type": "markdown",
   "metadata": {},
   "source": [
    "attrgetter 与 itemgetter 作用类似，它创建的函数根据名称提取对象的属性。如果把多个属性名传给 attrgetter，它也会返回提取的值构成的元组。此外，**如果参数名中包含 .（点号）， attrgetter 会深入嵌套对象，获取指定的属性**。"
   ]
  },
  {
   "cell_type": "code",
   "execution_count": 196,
   "metadata": {
    "collapsed": false
   },
   "outputs": [
    {
     "data": {
      "text/plain": [
       "Metropolis(name='Tokyo', cc='JP', pop=36.933, coord=LatLong(lat=35.689722, long=139.691667))"
      ]
     },
     "execution_count": 196,
     "metadata": {},
     "output_type": "execute_result"
    }
   ],
   "source": [
    "from collections import namedtuple\n",
    "LatLong = namedtuple('LatLong', 'lat long') \n",
    "Metropolis = namedtuple('Metropolis', 'name cc pop coord')\n",
    "metro_areas = [Metropolis(name, cc, pop, LatLong(lat, long))\n",
    "    for name, cc, pop, (lat, long) in metro_data]\n",
    "metro_areas[0]"
   ]
  },
  {
   "cell_type": "markdown",
   "metadata": {},
   "source": [
    "使用attrgetter生产的函数作为key排序"
   ]
  },
  {
   "cell_type": "code",
   "execution_count": 197,
   "metadata": {
    "collapsed": false
   },
   "outputs": [
    {
     "data": {
      "text/plain": [
       "[Metropolis(name='Sao Paulo', cc='BR', pop=19.649, coord=LatLong(lat=-23.547778, long=-46.635833)),\n",
       " Metropolis(name='Delhi NCR', cc='IN', pop=21.935, coord=LatLong(lat=28.613889, long=77.208889)),\n",
       " Metropolis(name='Tokyo', cc='JP', pop=36.933, coord=LatLong(lat=35.689722, long=139.691667)),\n",
       " Metropolis(name='Mexico City', cc='MX', pop=20.142, coord=LatLong(lat=19.433333, long=-99.133333)),\n",
       " Metropolis(name='New York-Newark', cc='US', pop=20.104, coord=LatLong(lat=40.808611, long=-74.020386))]"
      ]
     },
     "execution_count": 197,
     "metadata": {},
     "output_type": "execute_result"
    }
   ],
   "source": [
    "from operator import attrgetter\n",
    "sorted(metro_areas, key=attrgetter('cc'))"
   ]
  },
  {
   "cell_type": "markdown",
   "metadata": {},
   "source": [
    "attrgetter参数字符串中含有.号会深入嵌套对象的属性"
   ]
  },
  {
   "cell_type": "code",
   "execution_count": 198,
   "metadata": {
    "collapsed": false
   },
   "outputs": [
    {
     "name": "stdout",
     "output_type": "stream",
     "text": [
      "('Tokyo', 35.689722)\n",
      "('Delhi NCR', 28.613889)\n",
      "('Mexico City', 19.433333)\n",
      "('New York-Newark', 40.808611)\n",
      "('Sao Paulo', -23.547778)\n"
     ]
    }
   ],
   "source": [
    "name_lat = attrgetter('name', 'coord.lat')\n",
    "for city in metro_areas:\n",
    "    print(name_lat(city))"
   ]
  },
  {
   "cell_type": "markdown",
   "metadata": {},
   "source": [
    "### 3.methodcaller"
   ]
  },
  {
   "cell_type": "markdown",
   "metadata": {},
   "source": [
    "methodcaller。它的作用与attrgetter 和 itemgetter 类似，它会自行创建函数。 methodcaller 创建的函数会在对象上调用参数指定的方法"
   ]
  },
  {
   "cell_type": "code",
   "execution_count": 210,
   "metadata": {
    "collapsed": false
   },
   "outputs": [
    {
     "name": "stdout",
     "output_type": "stream",
     "text": [
      "Help on class methodcaller in module operator:\n",
      "\n",
      "class methodcaller(builtins.object)\n",
      " |  methodcaller(name, ...) --> methodcaller object\n",
      " |  \n",
      " |  Return a callable object that calls the given method on its operand.\n",
      " |  After f = methodcaller('name'), the call f(r) returns r.name().\n",
      " |  After g = methodcaller('name', 'date', foo=1), the call g(r) returns\n",
      " |  r.name('date', foo=1).\n",
      " |  \n",
      " |  Methods defined here:\n",
      " |  \n",
      " |  __call__(self, /, *args, **kwargs)\n",
      " |      Call self as a function.\n",
      " |  \n",
      " |  __getattribute__(self, name, /)\n",
      " |      Return getattr(self, name).\n",
      " |  \n",
      " |  __new__(*args, **kwargs) from builtins.type\n",
      " |      Create and return a new object.  See help(type) for accurate signature.\n",
      " |  \n",
      " |  __reduce__(...)\n",
      " |      Return state information for pickling\n",
      " |  \n",
      " |  __repr__(self, /)\n",
      " |      Return repr(self).\n",
      "\n"
     ]
    }
   ],
   "source": [
    "from operator import methodcaller\n",
    "help(methodcaller)"
   ]
  },
  {
   "cell_type": "markdown",
   "metadata": {},
   "source": [
    "等同于"
   ]
  },
  {
   "cell_type": "code",
   "execution_count": 211,
   "metadata": {
    "collapsed": false
   },
   "outputs": [
    {
     "data": {
      "text/plain": [
       "'THE TIME HAS COME'"
      ]
     },
     "execution_count": 211,
     "metadata": {},
     "output_type": "execute_result"
    }
   ],
   "source": [
    "s = 'The time has come'\n",
    "upcase = methodcaller('upper')\n",
    "upcase(s)"
   ]
  },
  {
   "cell_type": "code",
   "execution_count": 200,
   "metadata": {
    "collapsed": false
   },
   "outputs": [
    {
     "data": {
      "text/plain": [
       "'THE TIME HAS COME'"
      ]
     },
     "execution_count": 200,
     "metadata": {},
     "output_type": "execute_result"
    }
   ],
   "source": [
    "s.upper()"
   ]
  },
  {
   "cell_type": "code",
   "execution_count": 212,
   "metadata": {
    "collapsed": false
   },
   "outputs": [
    {
     "data": {
      "text/plain": [
       "'The-time-has-come'"
      ]
     },
     "execution_count": 212,
     "metadata": {},
     "output_type": "execute_result"
    }
   ],
   "source": [
    "hiphenate = methodcaller('replace', ' ', '-')\n",
    "hiphenate(s)"
   ]
  },
  {
   "cell_type": "markdown",
   "metadata": {},
   "source": [
    "## 10.2 operator模块"
   ]
  },
  {
   "cell_type": "markdown",
   "metadata": {},
   "source": [
    "functools 模块提供了一系列高阶函数，最有用的是 partial 及其变体， partialmethod。"
   ]
  },
  {
   "cell_type": "markdown",
   "metadata": {},
   "source": [
    "functools.partial 这个高阶函数用于部分应用一个函数。部分应用是指，基于一个函数创建一个新的可调用对象，把原函数的某些参数固定。"
   ]
  },
  {
   "cell_type": "markdown",
   "metadata": {},
   "source": [
    "简单的例子，如下固定乘法函数的一个乘数"
   ]
  },
  {
   "cell_type": "code",
   "execution_count": 219,
   "metadata": {
    "collapsed": false
   },
   "outputs": [
    {
     "data": {
      "text/plain": [
       "18"
      ]
     },
     "execution_count": 219,
     "metadata": {},
     "output_type": "execute_result"
    }
   ],
   "source": [
    "from functools import partial\n",
    "mul_3 = partial(mul,3)\n",
    "mul_3(6)"
   ]
  },
  {
   "cell_type": "markdown",
   "metadata": {},
   "source": [
    "注意partial函数固定定位参数和关键字参数的原理，代码如下：\n",
    "```python\n",
    "def partial(func, *args, **keywords):\n",
    "    \"\"\"New function with partial application of the given arguments\n",
    "    and keywords.\n",
    "    \"\"\"\n",
    "    if hasattr(func, 'func'):\n",
    "        args = func.args + args\n",
    "        tmpkw = func.keywords.copy()\n",
    "        tmpkw.update(keywords)\n",
    "        keywords = tmpkw\n",
    "        del tmpkw\n",
    "        func = func.func\n",
    "\n",
    "    def newfunc(*fargs, **fkeywords):\n",
    "        newkeywords = keywords.copy()\n",
    "        newkeywords.update(fkeywords)\n",
    "        return func(*(args + fargs), **newkeywords)\n",
    "    newfunc.func = func\n",
    "    newfunc.args = args\n",
    "    newfunc.keywords = keywords\n",
    "    return newfunc\n",
    "```"
   ]
  },
  {
   "cell_type": "markdown",
   "metadata": {},
   "source": [
    "- partial可以重复绑定，把多次绑定的参数合并，最终还是调用原函数\n",
    "- partial将绑定的定位参数和关键字参数合并传递给原函数"
   ]
  },
  {
   "cell_type": "code",
   "execution_count": 202,
   "metadata": {
    "collapsed": false
   },
   "outputs": [],
   "source": [
    "def fun(a,b,c=0,d=0):\n",
    "    return (a,b,c,d)"
   ]
  },
  {
   "cell_type": "code",
   "execution_count": 203,
   "metadata": {
    "collapsed": true
   },
   "outputs": [],
   "source": [
    "from functools import partial"
   ]
  },
  {
   "cell_type": "code",
   "execution_count": 222,
   "metadata": {
    "collapsed": true
   },
   "outputs": [],
   "source": [
    "f_a_c = partial(fun,1,c=3)"
   ]
  },
  {
   "cell_type": "code",
   "execution_count": 223,
   "metadata": {
    "collapsed": false
   },
   "outputs": [],
   "source": [
    "f_a_b_c = partial(f_a_c, 2)"
   ]
  },
  {
   "cell_type": "code",
   "execution_count": 225,
   "metadata": {
    "collapsed": false
   },
   "outputs": [
    {
     "data": {
      "text/plain": [
       "(1, 2, 3, 4)"
      ]
     },
     "execution_count": 225,
     "metadata": {},
     "output_type": "execute_result"
    }
   ],
   "source": [
    "f_a_b_c(d=4)"
   ]
  },
  {
   "cell_type": "markdown",
   "metadata": {},
   "source": [
    "函数调用时，若使用了关键字，则其后参数必须使用关键字，绑定也是如此。"
   ]
  },
  {
   "cell_type": "code",
   "execution_count": 227,
   "metadata": {
    "collapsed": false
   },
   "outputs": [],
   "source": [
    "f_a = partial(fun, a=1)"
   ]
  },
  {
   "cell_type": "code",
   "execution_count": 229,
   "metadata": {
    "collapsed": false
   },
   "outputs": [],
   "source": [
    "# f_a(2,c=3,d=4) 调用会出错"
   ]
  },
  {
   "cell_type": "code",
   "execution_count": 230,
   "metadata": {
    "collapsed": false
   },
   "outputs": [
    {
     "data": {
      "text/plain": [
       "(1, 2, 3, 4)"
      ]
     },
     "execution_count": 230,
     "metadata": {},
     "output_type": "execute_result"
    }
   ],
   "source": [
    "f_a(b=2,c=3,d=4)"
   ]
  },
  {
   "cell_type": "markdown",
   "metadata": {},
   "source": [
    "functools.partialmethod 函数（ Python 3.4 新增）的作用与 partial 一样，不过是用于处理方法的。"
   ]
  },
  {
   "cell_type": "markdown",
   "metadata": {},
   "source": []
  }
 ],
 "metadata": {
  "anaconda-cloud": {},
  "kernelspec": {
   "display_name": "Python [default]",
   "language": "python",
   "name": "python3"
  },
  "language_info": {
   "codemirror_mode": {
    "name": "ipython",
    "version": 3
   },
   "file_extension": ".py",
   "mimetype": "text/x-python",
   "name": "python",
   "nbconvert_exporter": "python",
   "pygments_lexer": "ipython3",
   "version": "3.5.2"
  }
 },
 "nbformat": 4,
 "nbformat_minor": 1
}
